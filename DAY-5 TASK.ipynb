{
 "cells": [
  {
   "cell_type": "markdown",
   "metadata": {},
   "source": [
    "# TASK\n"
   ]
  },
  {
   "cell_type": "markdown",
   "metadata": {},
   "source": [
    " # write a python program to sum all the items in a list"
   ]
  },
  {
   "cell_type": "code",
   "execution_count": 3,
   "metadata": {},
   "outputs": [
    {
     "name": "stdout",
     "output_type": "stream",
     "text": [
      "Enter no.of Elements: 6\n",
      "1\n",
      "2\n",
      "3\n",
      "4\n",
      "5\n",
      "6\n",
      "[1, 2, 3, 4, 5, 6]\n",
      "Sum of all the items in a list:  21\n"
     ]
    }
   ],
   "source": [
    "l = []\n",
    "n = int(input(\"Enter no.of Elements: \"))\n",
    "for i in range(0,n):\n",
    "    a = int(input())\n",
    "    l.append(a)\n",
    "print(l)\n",
    "sum = 0\n",
    "for j in range(0,len(l)):\n",
    "    sum = sum + l[j]\n",
    "print(\"Sum of all the items in a list: \",sum)"
   ]
  },
  {
   "cell_type": "markdown",
   "metadata": {},
   "source": [
    "# write a python program to convert a list of chracters into a string"
   ]
  },
  {
   "cell_type": "code",
   "execution_count": 4,
   "metadata": {},
   "outputs": [
    {
     "name": "stdout",
     "output_type": "stream",
     "text": [
      "Enter no.of  character: 6\n",
      "my\n",
      "favorite\n",
      "food\n",
      "is\n",
      "briyani and\n",
      "pizza\n",
      "['my', 'favorite', 'food', 'is', 'briyani and', 'pizza']\n"
     ]
    },
    {
     "data": {
      "text/plain": [
       "'my favorite food is briyani and pizza'"
      ]
     },
     "execution_count": 4,
     "metadata": {},
     "output_type": "execute_result"
    }
   ],
   "source": [
    "l = []\n",
    "n = int(input(\"Enter no.of  character: \"))\n",
    "for i in range(0,n):\n",
    "    elements = str(input())\n",
    "    l.append(elements)\n",
    "print(l)\n",
    "\" \".join(l)"
   ]
  },
  {
   "cell_type": "markdown",
   "metadata": {},
   "source": [
    "#  program to put even and odd elements in a list into two different lists"
   ]
  },
  {
   "cell_type": "code",
   "execution_count": 5,
   "metadata": {},
   "outputs": [
    {
     "name": "stdout",
     "output_type": "stream",
     "text": [
      "Enter no.of elements: 9\n",
      "1\n",
      "9\n",
      "17\n",
      "24\n",
      "36\n",
      "54\n",
      "19\n",
      "21\n",
      "3\n",
      "Even List [24, 36, 54]\n",
      "Odd list [1, 9, 17, 19, 21, 3]\n"
     ]
    }
   ],
   "source": [
    "l = []\n",
    "l1 = []\n",
    "l2 = []\n",
    "n = int(input(\"Enter no.of elements: \"))\n",
    "for i in range(int(n)):\n",
    "    elements = int(input())\n",
    "    l.append(elements)\n",
    "    \n",
    "for i in l:\n",
    "    if i % 2 == 0:\n",
    "        l1.append(i)\n",
    "    else:\n",
    "        l2.append(i)\n",
    "print(\"Even List\",l1)\n",
    "print(\"Odd list\",l2)"
   ]
  },
  {
   "cell_type": "markdown",
   "metadata": {},
   "source": [
    "# write a python program to remove duplicates from list"
   ]
  },
  {
   "cell_type": "code",
   "execution_count": 6,
   "metadata": {},
   "outputs": [
    {
     "name": "stdout",
     "output_type": "stream",
     "text": [
      "Enter no.of Elements: 8\n",
      "11\n",
      "22\n",
      "22\n",
      "33\n",
      "33\n",
      "33\n",
      "44\n",
      "44\n",
      "List Before [11, 22, 22, 33, 33, 33, 44, 44]\n",
      "List after removing duplicates:  [11, 22, 33, 44]\n"
     ]
    }
   ],
   "source": [
    "l = []\n",
    "n = int(input(\"Enter no.of Elements: \"))\n",
    "for i in range(0,n):\n",
    "    a = int(input())\n",
    "    l.append(a)\n",
    "print(\"List Before\",l)\n",
    "l1 = []\n",
    "for j in l:\n",
    "    if j not in l1:\n",
    "        l1.append(j)\n",
    "\n",
    "print(\"List after removing duplicates: \",l1)"
   ]
  },
  {
   "cell_type": "markdown",
   "metadata": {},
   "source": [
    "# write a python program to check a list is empty or not"
   ]
  },
  {
   "cell_type": "code",
   "execution_count": 7,
   "metadata": {},
   "outputs": [
    {
     "name": "stdout",
     "output_type": "stream",
     "text": [
      "Empty\n"
     ]
    }
   ],
   "source": [
    "arr = []\n",
    "print(\"Empty\" if len(arr) == 0 else \"Not empty\")"
   ]
  },
  {
   "cell_type": "code",
   "execution_count": 8,
   "metadata": {},
   "outputs": [
    {
     "name": "stdout",
     "output_type": "stream",
     "text": [
      "Enter no.of Elements: 0\n",
      "[]\n",
      "Empty\n"
     ]
    }
   ],
   "source": [
    "l = []\n",
    "n = int(input(\"Enter no.of Elements: \"))\n",
    "for i in range(0,n):\n",
    "    a = int(input())\n",
    "    l.append(a)\n",
    "print(l)\n",
    "if len(l)==0:\n",
    "    print(\"Empty\")\n",
    "else:\n",
    "    print(\"Not Empty\")"
   ]
  },
  {
   "cell_type": "markdown",
   "metadata": {},
   "source": [
    "# write a python program to print a specified list after removing the 0th,4th and 5th elements"
   ]
  },
  {
   "cell_type": "code",
   "execution_count": 10,
   "metadata": {},
   "outputs": [
    {
     "name": "stdout",
     "output_type": "stream",
     "text": [
      "Enter no.of Elements: 8\n",
      "1\n",
      "2\n",
      "2\n",
      "2\n",
      "3\n",
      "3\n",
      "3\n",
      "5\n",
      "Before Removing elements:  [1, 2, 2, 2, 3, 3, 3, 5]\n",
      "After removing 0th,4th and 5th element:  [2, 2, 2, 3, 3]\n"
     ]
    }
   ],
   "source": [
    "l = []\n",
    "n = int(input(\"Enter no.of Elements: \"))\n",
    "for i in range(0,n):\n",
    "    a = int(input())\n",
    "    l.append(a)\n",
    "print(\"Before Removing elements: \",l)\n",
    "del l[0],l[4],l[5]\n",
    "print(\"After removing 0th,4th and 5th element: \",l)"
   ]
  },
  {
   "cell_type": "markdown",
   "metadata": {},
   "source": [
    "# write a python that takes two lists and returns True if they have at least one common member"
   ]
  },
  {
   "cell_type": "code",
   "execution_count": 12,
   "metadata": {},
   "outputs": [
    {
     "name": "stdout",
     "output_type": "stream",
     "text": [
      "Enter no.of elements for list1: 4\n",
      "vamsi\n",
      "bhanu\n",
      "prajawal\n",
      "akshay\n",
      "The entered list1 is:  ['vamsi', 'bhanu', 'prajawal', 'akshay']\n",
      "Enter no.of elements for list2: 4\n",
      "avinash\n",
      "sudeep\n",
      "omkar\n",
      "uday\n",
      "The entered list2 is:  ['avinash', 'sudeep', 'omkar', 'uday']\n",
      "False\n"
     ]
    }
   ],
   "source": [
    "def common(l1,l2):\n",
    "    flag = False\n",
    "    for k in l1:\n",
    "        if (k in l2):\n",
    "            flag = True\n",
    "        else:\n",
    "            pass\n",
    "    return flag\n",
    "\n",
    "l1 = []\n",
    "l2 = []\n",
    "n1 = int(input(\"Enter no.of elements for list1: \"))\n",
    "for i in range(0,n1):\n",
    "    a = str(input())\n",
    "    l1.append(a)\n",
    "print(\"The entered list1 is: \",l1)\n",
    "n2 = int(input(\"Enter no.of elements for list2: \"))\n",
    "for j in range(0,n2):\n",
    "    b = str(input())\n",
    "    l2.append(b)\n",
    "print(\"The entered list2 is: \",l2)\n",
    "result = common(l1,l2)\n",
    "print(result)"
   ]
  },
  {
   "cell_type": "code",
   "execution_count": 14,
   "metadata": {},
   "outputs": [
    {
     "name": "stdout",
     "output_type": "stream",
     "text": [
      "Enter no.of elements for list1: 5\n",
      "1\n",
      "2\n",
      "3\n",
      "4\n",
      "5\n",
      "The entered list1 is:  ['1', '2', '3', '4', '5']\n",
      "Enter no.of elements for list2: 5\n",
      "3\n",
      "4\n",
      "5\n",
      "6\n",
      "7\n",
      "The entered list2 is:  ['3', '4', '5', '6', '7']\n",
      "True\n",
      "The common elements are:  ['3', '4', '5']\n"
     ]
    }
   ],
   "source": [
    "l = []\n",
    "def common(l1,l2):\n",
    "    flag = False\n",
    "    for k in l1:\n",
    "        if (k in l2):\n",
    "            l.append(k)\n",
    "            flag = True\n",
    "        else:\n",
    "            pass\n",
    "    return flag\n",
    "\n",
    "\n",
    "l1 = []\n",
    "l2 = []\n",
    "n1 = int(input(\"Enter no.of elements for list1: \"))\n",
    "for i in range(0,n1):\n",
    "    a = str(input())\n",
    "    l1.append(a)\n",
    "print(\"The entered list1 is: \",l1)\n",
    "n2 = int(input(\"Enter no.of elements for list2: \"))\n",
    "for j in range(0,n2):\n",
    "    b = str(input())\n",
    "    l2.append(b)\n",
    "print(\"The entered list2 is: \",l2)\n",
    "result = common(l1,l2)\n",
    "print(result)\n",
    "print(\"The common elements are: \",l)"
   ]
  },
  {
   "cell_type": "code",
   "execution_count": null,
   "metadata": {},
   "outputs": [],
   "source": []
  }
 ],
 "metadata": {
  "kernelspec": {
   "display_name": "Python 3",
   "language": "python",
   "name": "python3"
  },
  "language_info": {
   "codemirror_mode": {
    "name": "ipython",
    "version": 3
   },
   "file_extension": ".py",
   "mimetype": "text/x-python",
   "name": "python",
   "nbconvert_exporter": "python",
   "pygments_lexer": "ipython3",
   "version": "3.7.3"
  }
 },
 "nbformat": 4,
 "nbformat_minor": 2
}
